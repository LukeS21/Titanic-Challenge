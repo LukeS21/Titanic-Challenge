{
 "cells": [
  {
   "cell_type": "code",
   "execution_count": 207,
   "metadata": {
    "scrolled": false
   },
   "outputs": [
    {
     "name": "stdout",
     "output_type": "stream",
     "text": [
      "Accuracy: 80.7017543859649%\n"
     ]
    }
   ],
   "source": [
    "'''\n",
    "Steps:\n",
    "1. Import the data\n",
    "2. Clean the data\n",
    "3. Split the data into input and output sets. 'X' denotes input set 'y' denotes output set\n",
    "4. Split the data into Training/Test Sets\n",
    "5. Create a Model\n",
    "6. Train the model\n",
    "7. Make Predictions\n",
    "8. Evaluate and improve\n",
    "'''\n",
    "import pandas as pd\n",
    "import joblib\n",
    "import re\n",
    "from sklearn.tree import DecisionTreeClassifier\n",
    "from sklearn.metrics import accuracy_score\n",
    "from sklearn.model_selection import train_test_split\n",
    "\n",
    "df = pd.read_csv('train.csv')\n",
    "df = df.drop(columns = 'Cabin')\n",
    "df = df.dropna(how='any')\n",
    "df.loc[df['Sex'] == 'male', 'Sex'] = 1\n",
    "df.loc[df['Sex'] == 'female', 'Sex'] = 0\n",
    "df.loc[df['Embarked'] == 'S', 'Embarked'] = 0\n",
    "df.loc[df['Embarked'] == 'C', 'Embarked'] = 1\n",
    "df.loc[df['Embarked'] == 'Q', 'Embarked'] = 2\n",
    "ticket = df.loc[df['Ticket'].str.contains('[a-zA-Z]', regex = True), 'Ticket']\n",
    "ticket = ticket.reset_index(drop = True)\n",
    "for item in range(len(ticket)):\n",
    "    ticket[item] = re.sub('[a-zA-Z/. ]', '',  ticket[item])\n",
    "df.loc[df['Ticket'].str.contains('[a-zA-Z]', regex = True), 'Ticket'] = ticket\n",
    "df = df.dropna(how='any')\n",
    "X = df.drop(columns = ['Survived', 'Name'])\n",
    "y = df['Survived']\n",
    "#print(df)\n",
    "X_train, X_test, y_train, y_test = train_test_split(X, y, test_size = 0.2)\n",
    "model = DecisionTreeClassifier();\n",
    "\n",
    "def train():\n",
    "    model.fit(X_train, y_train)\n",
    "    \n",
    "def save_model():\n",
    "    joblib.dump(model, 'titanic-model.joblib')\n",
    "    print('Saved')\n",
    "\n",
    "def load_model():\n",
    "    joblib.load('titanic-model.joblib')\n",
    "    print('Loaded')\n",
    "    \n",
    "def predict_and_score():\n",
    "    prediction = model.predict(X_test)\n",
    "    score = accuracy_score(y_test, prediction)\n",
    "    print(f'Accuracy: {score * 100}%')\n",
    "    \n",
    "train()\n",
    "# save_model()\n",
    "#  load_model()\n",
    "predict_and_score()"
   ]
  },
  {
   "cell_type": "code",
   "execution_count": null,
   "metadata": {},
   "outputs": [],
   "source": []
  }
 ],
 "metadata": {
  "kernelspec": {
   "display_name": "Python 3",
   "language": "python",
   "name": "python3"
  },
  "language_info": {
   "codemirror_mode": {
    "name": "ipython",
    "version": 3
   },
   "file_extension": ".py",
   "mimetype": "text/x-python",
   "name": "python",
   "nbconvert_exporter": "python",
   "pygments_lexer": "ipython3",
   "version": "3.8.5"
  }
 },
 "nbformat": 4,
 "nbformat_minor": 4
}
