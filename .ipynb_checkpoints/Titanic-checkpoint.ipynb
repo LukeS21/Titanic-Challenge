{
 "cells": [
  {
   "cell_type": "code",
   "execution_count": 33,
   "metadata": {
    "scrolled": false
   },
   "outputs": [
    {
     "name": "stdout",
     "output_type": "stream",
     "text": [
      "     PassengerId  Pclass  SibSp  Parch     Fare\n",
      "0              1       3      1      0   7.2500\n",
      "1              2       1      1      0  71.2833\n",
      "2              3       3      0      0   7.9250\n",
      "3              4       1      1      0  53.1000\n",
      "4              5       3      0      0   8.0500\n",
      "..           ...     ...    ...    ...      ...\n",
      "886          887       2      0      0  13.0000\n",
      "887          888       1      0      0  30.0000\n",
      "888          889       3      1      2  23.4500\n",
      "889          890       1      0      0  30.0000\n",
      "890          891       3      0      0   7.7500\n",
      "\n",
      "[891 rows x 5 columns]\n",
      "Accuracy: 58.659217877094974%\n"
     ]
    }
   ],
   "source": [
    "'''\n",
    "Steps:\n",
    "1. Import the data\n",
    "2. Clean the data\n",
    "3. Split the data into input and output sets. 'X' denotes input set 'y' denotes output set\n",
    "4. Split the data into Training/Test Sets\n",
    "5. Create a Model\n",
    "6. Train the model\n",
    "7. Make Predictions\n",
    "8. Evaluate and improve\n",
    "'''\n",
    "import pandas as pd\n",
    "import joblib\n",
    "from sklearn.tree import DecisionTreeClassifier\n",
    "from sklearn.metrics import accuracy_score\n",
    "from sklearn.model_selection import train_test_split\n",
    "\n",
    "df = pd.read_csv('train.csv')\n",
    "# for item in df['Sex']:\n",
    "#     if item == 'male':\n",
    "#         df['Sex'][item] = 1\n",
    "#     elif item == 'female':\n",
    "#         item = 0\n",
    "# print(df)\n",
    "X = df.drop(columns = ['Survived', 'Name', 'Sex', 'Ticket', 'Cabin', 'Embarked', 'Age'])\n",
    "print(X)\n",
    "y = df['Survived']\n",
    "\n",
    "X_train, X_test, y_train, y_test = train_test_split(X, y, test_size = 0.2)\n",
    "model = DecisionTreeClassifier();\n",
    "\n",
    "def train():\n",
    "    model.fit(X_train, y_train)\n",
    "    \n",
    "def save_model():\n",
    "    joblib.dump(model, 'titanic-model.joblib')\n",
    "    print('Saved')\n",
    "\n",
    "def load_model():\n",
    "    joblib.load('titanic-model.joblib')\n",
    "    print('Loaded')\n",
    "    \n",
    "def predict_and_score():\n",
    "    prediction = model.predict(X_test)\n",
    "    score = accuracy_score(y_test, prediction)\n",
    "    print(f'Accuracy: {score * 100}%')\n",
    "    \n",
    "train()\n",
    "# save_model()\n",
    "#  load_model()\n",
    "predict_and_score()"
   ]
  }
 ],
 "metadata": {
  "kernelspec": {
   "display_name": "Python 3",
   "language": "python",
   "name": "python3"
  },
  "language_info": {
   "codemirror_mode": {
    "name": "ipython",
    "version": 3
   },
   "file_extension": ".py",
   "mimetype": "text/x-python",
   "name": "python",
   "nbconvert_exporter": "python",
   "pygments_lexer": "ipython3",
   "version": "3.8.5"
  }
 },
 "nbformat": 4,
 "nbformat_minor": 4
}
